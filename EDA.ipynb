{
 "cells": [
  {
   "cell_type": "code",
   "execution_count": 1,
   "metadata": {},
   "outputs": [
    {
     "data": {
      "application/javascript": [
       "if (!(\"Notification\" in window)) {\n",
       "    alert(\"This browser does not support desktop notifications, so the %%notify magic will not work.\");\n",
       "} else if (Notification.permission !== 'granted' && Notification.permission !== 'denied') {\n",
       "    Notification.requestPermission(function (permission) {\n",
       "        if(!('permission' in Notification)) {\n",
       "            Notification.permission = permission;\n",
       "        }\n",
       "    })\n",
       "}\n"
      ],
      "text/plain": [
       "<IPython.core.display.Javascript object>"
      ]
     },
     "metadata": {},
     "output_type": "display_data"
    },
    {
     "name": "stderr",
     "output_type": "stream",
     "text": [
      "/Users/randallleung/anaconda2/envs/ela-env/lib/python2.7/site-packages/h5py/__init__.py:36: FutureWarning: Conversion of the second argument of issubdtype from `float` to `np.floating` is deprecated. In future, it will be treated as `np.float64 == np.dtype(float).type`.\n",
      "  from ._conv import register_converters as _register_converters\n",
      "Using TensorFlow backend.\n"
     ]
    }
   ],
   "source": [
    "%load_ext jupyternotify\n",
    "\n",
    "import numpy as np\n",
    "import pandas as pd\n",
    "import os\n",
    "from math import sqrt\n",
    "import datetime\n",
    "from skimage.data import imread\n",
    "import scipy.misc\n",
    "from sklearn.linear_model import LogisticRegression\n",
    "from sklearn.model_selection import train_test_split, cross_val_score, KFold, GridSearchCV\n",
    "from sklearn.ensemble import RandomForestClassifier, AdaBoostClassifier, VotingClassifier, GradientBoostingClassifier\n",
    "from sklearn.metrics import roc_curve, roc_auc_score, auc, mean_squared_error, classification_report, confusion_matrix\n",
    "from sklearn.metrics import accuracy_score\n",
    "from skimage.transform import resize\n",
    "from numpy.linalg import svd\n",
    "from PIL import Image\n",
    "from skimage import io\n",
    "import cv2\n",
    "import matplotlib.pyplot as plt\n",
    "import seaborn\n",
    "\n",
    "from xgboost import XGBClassifier\n",
    "\n",
    "from keras.models import Sequential\n",
    "from keras.layers import Dense, Activation, Flatten, Dropout\n",
    "from keras.layers import Conv2D, MaxPooling2D\n",
    "from keras.utils import np_utils\n",
    "from keras import optimizers\n",
    "from keras.callbacks import EarlyStopping\n",
    "from keras.preprocessing.image import ImageDataGenerator\n",
    "from keras.models import load_model\n",
    "\n",
    "import pickle\n",
    "import errno\n",
    "\n",
    "np.random.seed(0)\n",
    "%matplotlib inline"
   ]
  },
  {
   "cell_type": "markdown",
   "metadata": {},
   "source": [
    "# Helper functions"
   ]
  },
  {
   "cell_type": "code",
   "execution_count": 2,
   "metadata": {},
   "outputs": [],
   "source": [
    "def plot_roc_curve(y_true, y_pred):\n",
    "    rmse = sqrt(mean_squared_error(y_test, y_pred))\n",
    "    print 'RMSE', rmse\n",
    "    \n",
    "    FPR, TPR, thresholds = roc_curve(y_true, y_pred)\n",
    "    roc_auc = auc(FPR, TPR)\n",
    "    plt.plot([0, 1], [0, 1], 'r--')\n",
    "    plt.plot(FPR, TPR, label='AUC = %0.2f' % roc_auc)\n",
    "    plt.title('ROC Curve')\n",
    "    plt.legend(loc='lower right')\n",
    "    plt.ylabel('True Positive')\n",
    "    plt.xlabel('False Positive')\n",
    "    plt.show()\n",
    "    \n",
    "    plot_confusion_matrix(y_true, y_pred)\n",
    "    print '----' * 15\n",
    "    print classification_report(y_true, y_pred)\n",
    "    \n",
    "def plot_confusion_matrix(y_true, y_pred):\n",
    "    cm = confusion_matrix(y_true, y_pred)\n",
    "    tn,fp,fn,tp = cm.ravel()\n",
    "    print 'TP',tp\n",
    "    print 'TN',tn\n",
    "    print 'FP',fp\n",
    "    print 'FN',fn\n",
    "\n",
    "    plt.matshow(cm.T)\n",
    "    plt.title('Confusion matrix')\n",
    "    plt.colorbar()\n",
    "    plt.xlabel('True label')\n",
    "    plt.ylabel('Predicted label')\n",
    "    \n",
    "    print 'top left: TN'\n",
    "    print 'bottom left: FP'\n",
    "    print 'top right: FN'\n",
    "    print 'bottom right: TP'"
   ]
  },
  {
   "cell_type": "code",
   "execution_count": 3,
   "metadata": {},
   "outputs": [],
   "source": [
    "def plot_roc_multi(X_test, y_true, X_test_keras, y_true_keras, models, save=False):\n",
    "    plt.figure(figsize=(10,6))\n",
    "    for name, model in models.iteritems():\n",
    "        if name == 'CNN':\n",
    "            prediction = model.predict_classes(X_test_keras)\n",
    "            fpr, tpr, thresh = roc_curve(y_true_keras, prediction)\n",
    "        else:\n",
    "            prediction = model.predict(X_test)\n",
    "            fpr, tpr, thresh = roc_curve(y_true, prediction)\n",
    "        roc_auc = auc(fpr, tpr)\n",
    "        label = \"%s - AUC %0.2f\" % (name, roc_auc)\n",
    "        plt.plot(fpr, tpr, label=label)\n",
    "        \n",
    "\n",
    "    # 45 degree line\n",
    "    xx = np.linspace(0, 1.0, 20)\n",
    "    plt.plot(xx, xx)\n",
    "\n",
    "    plt.xlabel(\"FPR\")\n",
    "    plt.ylabel(\"TPR\")\n",
    "    plt.title(\"ROC curves\")\n",
    "    plt.legend()\n",
    "    if save:\n",
    "        plt.savefig('ROC_Curve')"
   ]
  },
  {
   "cell_type": "code",
   "execution_count": 4,
   "metadata": {},
   "outputs": [],
   "source": [
    "def plot_keras_history(history, name1='', name2='', save=False):\n",
    "    # Loss Curves\n",
    "    plt.figure(figsize=[8,6])\n",
    "    plt.plot(history.history['loss'],'r',linewidth=3.0)\n",
    "    plt.plot(history.history['val_loss'],'b',linewidth=3.0)\n",
    "    plt.legend(['Training loss', 'Validation Loss'],fontsize=18)\n",
    "    plt.xlabel('Epochs ',fontsize=16)\n",
    "    plt.ylabel('Loss',fontsize=16)\n",
    "    plt.title('Loss Curves',fontsize=16)\n",
    "    if save:\n",
    "        plt.savefig(name1)\n",
    "\n",
    "    # Accuracy Curves\n",
    "    plt.figure(figsize=[8,6])\n",
    "    plt.plot(history.history['acc'],'r',linewidth=3.0)\n",
    "    plt.plot(history.history['val_acc'],'b',linewidth=3.0)\n",
    "    plt.legend(['Training Accuracy', 'Validation Accuracy'],fontsize=18)\n",
    "    plt.xlabel('Epochs ',fontsize=16)\n",
    "    plt.ylabel('Accuracy',fontsize=16)\n",
    "    plt.title('Accuracy Curves',fontsize=16)\n",
    "    if save:\n",
    "        plt.savefig(name2)"
   ]
  },
  {
   "cell_type": "code",
   "execution_count": 5,
   "metadata": {},
   "outputs": [],
   "source": [
    "def plot_loss(model):\n",
    "    test_score = []\n",
    "    train_score = []\n",
    "    for i, pred in enumerate(model.staged_decision_function(X_test)):\n",
    "        test_score.append(model.loss_(y_test, pred))\n",
    "\n",
    "    for i, pred in enumerate(model.staged_decision_function(X_train)):\n",
    "        train_score.append(model.loss_(y_train, pred))\n",
    "        \n",
    "    plt.plot(test_score, label='Test')\n",
    "    plt.plot(train_score, label='Train')\n",
    "    plt.legend()"
   ]
  },
  {
   "cell_type": "code",
   "execution_count": 6,
   "metadata": {},
   "outputs": [],
   "source": [
    "def show_score(model):\n",
    "    score_test = model.score(X_test, y_test)\n",
    "    \n",
    "    print 'Test Score', score_test"
   ]
  },
  {
   "cell_type": "code",
   "execution_count": 7,
   "metadata": {},
   "outputs": [],
   "source": [
    "def save_model(model, name):\n",
    "    output_filename = 'models/' + name + '.pkl'\n",
    "    if not os.path.exists(os.path.dirname(output_filename)):\n",
    "        try:\n",
    "            os.makedirs(os.path.dirname(output_filename))\n",
    "        except OSError as exc:\n",
    "            if exc.errno != errno.EEXIST:\n",
    "                raise\n",
    "\n",
    "    with open(output_filename, 'wb') as f:\n",
    "        pickle.dump(model, f)\n",
    "        \n",
    "def load_sklearn_model(name):\n",
    "    filename = './models/' + name + '.pkl'\n",
    "    with open(filename, 'r') as f:\n",
    "        model = pickle.load(f)\n",
    "        return model"
   ]
  },
  {
   "cell_type": "code",
   "execution_count": 8,
   "metadata": {},
   "outputs": [],
   "source": [
    "IMAGE_SIZE = 124, 124\n",
    "\n",
    "def read_image(path):\n",
    "    # reading the image as png to preserve image's pixel values\n",
    "    img_data = cv2.imread(path, 0)\n",
    "    img_data = img_data.reshape(IMAGE_SIZE[0] * IMAGE_SIZE[1])\n",
    "    return img_data\n",
    "\n",
    "def read_image_keras(path):\n",
    "    img_data = cv2.imread(path, 0)\n",
    "    return img_data\n",
    "\n",
    "def read_and_resize_image(path):\n",
    "    img_data = cv2.imread(path,0)\n",
    "    img_data = cv2.resize(img_data, IMAGE_SIZE)\n",
    "    return img_data\n",
    "\n",
    "def image_files_in_folder(folder):\n",
    "    all_files = os.listdir(folder)\n",
    "    return [file for file in all_files if file.endswith('.jpg') or file.endswith('.JPG') or file.endswith('.png')]\n",
    "\n",
    "def load_images(folder, resize=False, n_files=None, for_keras=False):\n",
    "    image_files = image_files_in_folder(folder)\n",
    "    if n_files:\n",
    "        image_files = np.random.choice(image_files_in_folder(folder), n_files)\n",
    "        \n",
    "    if for_keras:\n",
    "        images = np.empty((len(image_files), 124, 124),\n",
    "                  dtype=np.float32)\n",
    "    else:\n",
    "        images = np.empty((len(image_files), IMAGE_SIZE[0] * IMAGE_SIZE[1]),\n",
    "                      dtype=np.float32)\n",
    "        \n",
    "    for i, file_name in enumerate(image_files):\n",
    "        try:\n",
    "            if resize:\n",
    "                image = read_and_resize_image('/'.join([folder, file_name]))\n",
    "            else:\n",
    "                if for_keras:\n",
    "                    image = read_image_keras('/'.join([folder, file_name]))\n",
    "                else:\n",
    "                    image = read_image('/'.join([folder, file_name]))\n",
    "            images[i] = image\n",
    "        except RuntimeError:\n",
    "            print('error --- ', file_name)\n",
    "    return images"
   ]
  },
  {
   "cell_type": "markdown",
   "metadata": {},
   "source": [
    "# Loading Data"
   ]
  },
  {
   "cell_type": "code",
   "execution_count": 24,
   "metadata": {},
   "outputs": [
    {
     "name": "stdout",
     "output_type": "stream",
     "text": [
      "------\n",
      "X (4016, 15376)\n",
      "y (4016,)\n",
      "CPU times: user 1.44 s, sys: 329 ms, total: 1.77 s\n",
      "Wall time: 1.88 s\n"
     ]
    },
    {
     "data": {
      "application/javascript": [
       "$(document).ready(\n",
       "    function() {\n",
       "        function appendUniqueDiv(){\n",
       "            // append a div with our uuid so we can check that it's already\n",
       "            // been sent and avoid duplicates on page reload\n",
       "            var notifiedDiv = document.createElement(\"div\")\n",
       "            notifiedDiv.id = \"8978e97b-98b3-4081-bf28-97fd19c0d655\"\n",
       "            element.append(notifiedDiv)\n",
       "        }\n",
       "\n",
       "        // only send notifications if the pageload is complete; this will\n",
       "        // help stop extra notifications when a saved notebook is loaded,\n",
       "        // which during testing gives us state \"interactive\", not \"complete\"\n",
       "        if (document.readyState === 'complete') {\n",
       "            // check for the div that signifies that the notification\n",
       "            // was already sent\n",
       "            if (document.getElementById(\"8978e97b-98b3-4081-bf28-97fd19c0d655\") === null) {\n",
       "                var notificationPayload = {\"body\": \"Cell execution has finished!\", \"requireInteraction\": false, \"icon\": \"/static/base/images/favicon.ico\"};\n",
       "                if (Notification.permission !== 'denied') {\n",
       "                    if (Notification.permission !== 'granted') { \n",
       "                        Notification.requestPermission(function (permission) {\n",
       "                            if(!('permission' in Notification)) {\n",
       "                                Notification.permission = permission\n",
       "                            }\n",
       "                        })\n",
       "                    }\n",
       "                    if (Notification.permission === 'granted') {\n",
       "                    var notification = new Notification(\"Jupyter Notebook\", notificationPayload)\n",
       "                    appendUniqueDiv()\n",
       "                    notification.onclick = function () {\n",
       "                        window.focus();\n",
       "                        this.close();\n",
       "                        };\n",
       "                    } \n",
       "                }     \n",
       "            }\n",
       "        }\n",
       "    }\n",
       ")\n"
      ],
      "text/plain": [
       "<IPython.core.display.Javascript object>"
      ]
     },
     "metadata": {},
     "output_type": "display_data"
    }
   ],
   "source": [
    "%%time\n",
    "\n",
    "fake_image = load_images('data/images-ela/fake-ela-124x124/', False, 2008)\n",
    "real_image = load_images('data/images-ela/real-ela-124x124/', False)\n",
    "real_dslr_image = load_images('data/images-ela/dslr-real-ela-124x124/', False)\n",
    "imgur_real_image = load_images('data/images-ela/imgur-real-ela-124x124/', False)\n",
    "\n",
    "X = np.concatenate((fake_image,\n",
    "                    real_image,\n",
    "                    real_dslr_image,\n",
    "                    imgur_real_image\n",
    "                   ))\n",
    "y = np.concatenate((np.repeat(1, len(fake_image)),\n",
    "                    np.repeat(0, len(real_image)),\n",
    "                    np.repeat(0, len(real_dslr_image)),\n",
    "                    np.repeat(0, len(imgur_real_image))\n",
    "                   ))\n",
    "\n",
    "np.save('data/ela_X.npy', X)\n",
    "np.save('data/ela_y.npy', y)\n",
    "\n",
    "print '------'\n",
    "print 'X', X.shape\n",
    "print 'y', y.shape"
   ]
  },
  {
   "cell_type": "code",
   "execution_count": 9,
   "metadata": {},
   "outputs": [],
   "source": [
    "X = np.load('data/ela_X.npy')\n",
    "y = np.load('data/ela_y.npy')\n",
    "\n",
    "X_train, X_test, y_train, y_test = train_test_split(X, y, random_state=42, test_size=.2)"
   ]
  },
  {
   "cell_type": "code",
   "execution_count": 55,
   "metadata": {},
   "outputs": [],
   "source": [
    "def preprocess_keras(X, y):\n",
    "    fake_image = load_images('data/images-ela/fake-ela-124x124/', n_files=2008, for_keras=True)\n",
    "    real_image = load_images('data/images-ela/real-ela-124x124/', for_keras=True) #507\n",
    "    real_dslr_image = load_images('data/images-ela/dslr-real-ela-124x124/', for_keras=True)\n",
    "    imgur_real_image = load_images('data/images-ela/imgur-real-ela-124x124/', for_keras=True)\n",
    "    \n",
    "    X_train_keras, X_test_keras, y_train_keras, y_test_keras = train_test_split(X, y, random_state=42, test_size=.2)\n",
    "    \n",
    "    X_train_keras = X_train_keras.reshape(X_train_keras.shape[0], 1, 124, 124)\n",
    "    X_test_keras = X_test_keras.reshape(X_test_keras.shape[0], 1, 124, 124)\n",
    "\n",
    "    X_train_keras = X_train_keras.astype('float32')\n",
    "    X_test_keras = X_test_keras.astype('float32')\n",
    "    X_train_keras /= 255\n",
    "    X_test_keras /= 255\n",
    "    \n",
    "    return X_train_keras, X_test_keras, y_train_keras, y_test_keras"
   ]
  },
  {
   "cell_type": "markdown",
   "metadata": {},
   "source": [
    "# Models"
   ]
  },
  {
   "cell_type": "markdown",
   "metadata": {},
   "source": [
    "## Logistic Regression"
   ]
  },
  {
   "cell_type": "code",
   "execution_count": null,
   "metadata": {},
   "outputs": [],
   "source": [
    "lr = load_sklearn_model('lr')"
   ]
  },
  {
   "cell_type": "code",
   "execution_count": 37,
   "metadata": {},
   "outputs": [
    {
     "name": "stdout",
     "output_type": "stream",
     "text": [
      "CPU times: user 12.9 s, sys: 392 ms, total: 13.3 s\n",
      "Wall time: 13.4 s\n"
     ]
    },
    {
     "data": {
      "application/javascript": [
       "$(document).ready(\n",
       "    function() {\n",
       "        function appendUniqueDiv(){\n",
       "            // append a div with our uuid so we can check that it's already\n",
       "            // been sent and avoid duplicates on page reload\n",
       "            var notifiedDiv = document.createElement(\"div\")\n",
       "            notifiedDiv.id = \"9b2ccc86-2cf3-4fe1-84a1-4d7524c283c6\"\n",
       "            element.append(notifiedDiv)\n",
       "        }\n",
       "\n",
       "        // only send notifications if the pageload is complete; this will\n",
       "        // help stop extra notifications when a saved notebook is loaded,\n",
       "        // which during testing gives us state \"interactive\", not \"complete\"\n",
       "        if (document.readyState === 'complete') {\n",
       "            // check for the div that signifies that the notification\n",
       "            // was already sent\n",
       "            if (document.getElementById(\"9b2ccc86-2cf3-4fe1-84a1-4d7524c283c6\") === null) {\n",
       "                var notificationPayload = {\"body\": \"Cell execution has finished!\", \"requireInteraction\": false, \"icon\": \"/static/base/images/favicon.ico\"};\n",
       "                if (Notification.permission !== 'denied') {\n",
       "                    if (Notification.permission !== 'granted') { \n",
       "                        Notification.requestPermission(function (permission) {\n",
       "                            if(!('permission' in Notification)) {\n",
       "                                Notification.permission = permission\n",
       "                            }\n",
       "                        })\n",
       "                    }\n",
       "                    if (Notification.permission === 'granted') {\n",
       "                    var notification = new Notification(\"Jupyter Notebook\", notificationPayload)\n",
       "                    appendUniqueDiv()\n",
       "                    notification.onclick = function () {\n",
       "                        window.focus();\n",
       "                        this.close();\n",
       "                        };\n",
       "                    } \n",
       "                }     \n",
       "            }\n",
       "        }\n",
       "    }\n",
       ")\n"
      ],
      "text/plain": [
       "<IPython.core.display.Javascript object>"
      ]
     },
     "metadata": {},
     "output_type": "display_data"
    }
   ],
   "source": [
    "%%notify\n",
    "%%time\n",
    "lr = LogisticRegression(penalty='l2')\n",
    "lr.fit(X_train, y_train)\n",
    "\n",
    "save_model(lr, 'lr')"
   ]
  },
  {
   "cell_type": "code",
   "execution_count": 38,
   "metadata": {},
   "outputs": [
    {
     "data": {
      "text/plain": [
       "0.8656716417910447"
      ]
     },
     "execution_count": 38,
     "metadata": {},
     "output_type": "execute_result"
    }
   ],
   "source": [
    "lr.score(X_test, y_test)"
   ]
  },
  {
   "cell_type": "code",
   "execution_count": 39,
   "metadata": {},
   "outputs": [],
   "source": [
    "lr_y_pred = lr.predict(X_test)"
   ]
  },
  {
   "cell_type": "code",
   "execution_count": 40,
   "metadata": {},
   "outputs": [
    {
     "name": "stdout",
     "output_type": "stream",
     "text": [
      "Test Score 0.8656716417910447\n",
      "RMSE 0.366508333069\n"
     ]
    },
    {
     "data": {
      "image/png": "[encoded data removed]",
      "text/plain": [
       "<matplotlib.figure.Figure at 0x1c6f3010d0>"
      ]
     },
     "metadata": {},
     "output_type": "display_data"
    },
    {
     "name": "stdout",
     "output_type": "stream",
     "text": [
      "TP 385\n",
      "TN 311\n",
      "FP 72\n",
      "FN 36\n",
      "top left: TN\n",
      "bottom left: FP\n",
      "top right: FN\n",
      "bottom right: TP\n",
      "------------------------------------------------------------\n",
      "             precision    recall  f1-score   support\n",
      "\n",
      "          0       0.90      0.81      0.85       383\n",
      "          1       0.84      0.91      0.88       421\n",
      "\n",
      "avg / total       0.87      0.87      0.87       804\n",
      "\n"
     ]
    },
    {
     "data": {
      "image/png": "[encoded data removed]",
      "text/plain": [
       "<matplotlib.figure.Figure at 0x1c6f22cbd0>"
      ]
     },
     "metadata": {},
     "output_type": "display_data"
    }
   ],
   "source": [
    "show_score(lr)\n",
    "plot_roc_curve(y_test, lr_y_pred)"
   ]
  },
  {
   "cell_type": "markdown",
   "metadata": {},
   "source": [
    "## Random Forest"
   ]
  },
  {
   "cell_type": "code",
   "execution_count": 32,
   "metadata": {
    "collapsed": true
   },
   "outputs": [
    {
     "name": "stderr",
     "output_type": "stream",
     "text": [
      "/Users/randallleung/anaconda2/envs/ela-env/lib/python2.7/site-packages/sklearn/base.py:311: UserWarning: Trying to unpickle estimator DecisionTreeClassifier from version 0.19.0 when using version 0.19.1. This might lead to breaking code or invalid results. Use at your own risk.\n",
      "  UserWarning)\n",
      "/Users/randallleung/anaconda2/envs/ela-env/lib/python2.7/site-packages/sklearn/base.py:311: UserWarning: Trying to unpickle estimator RandomForestClassifier from version 0.19.0 when using version 0.19.1. This might lead to breaking code or invalid results. Use at your own risk.\n",
      "  UserWarning)\n"
     ]
    }
   ],
   "source": [
    "rf = load_sklearn_model('rf')"
   ]
  },
  {
   "cell_type": "code",
   "execution_count": 44,
   "metadata": {
    "scrolled": true
   },
   "outputs": [
    {
     "name": "stdout",
     "output_type": "stream",
     "text": [
      "CPU times: user 1min 10s, sys: 388 ms, total: 1min 10s\n",
      "Wall time: 22.8 s\n"
     ]
    },
    {
     "data": {
      "application/javascript": [
       "$(document).ready(\n",
       "    function() {\n",
       "        function appendUniqueDiv(){\n",
       "            // append a div with our uuid so we can check that it's already\n",
       "            // been sent and avoid duplicates on page reload\n",
       "            var notifiedDiv = document.createElement(\"div\")\n",
       "            notifiedDiv.id = \"48f648d2-2580-4967-984e-5e9a88683ab7\"\n",
       "            element.append(notifiedDiv)\n",
       "        }\n",
       "\n",
       "        // only send notifications if the pageload is complete; this will\n",
       "        // help stop extra notifications when a saved notebook is loaded,\n",
       "        // which during testing gives us state \"interactive\", not \"complete\"\n",
       "        if (document.readyState === 'complete') {\n",
       "            // check for the div that signifies that the notification\n",
       "            // was already sent\n",
       "            if (document.getElementById(\"48f648d2-2580-4967-984e-5e9a88683ab7\") === null) {\n",
       "                var notificationPayload = {\"body\": \"Cell execution has finished!\", \"requireInteraction\": false, \"icon\": \"/static/base/images/favicon.ico\"};\n",
       "                if (Notification.permission !== 'denied') {\n",
       "                    if (Notification.permission !== 'granted') { \n",
       "                        Notification.requestPermission(function (permission) {\n",
       "                            if(!('permission' in Notification)) {\n",
       "                                Notification.permission = permission\n",
       "                            }\n",
       "                        })\n",
       "                    }\n",
       "                    if (Notification.permission === 'granted') {\n",
       "                    var notification = new Notification(\"Jupyter Notebook\", notificationPayload)\n",
       "                    appendUniqueDiv()\n",
       "                    notification.onclick = function () {\n",
       "                        window.focus();\n",
       "                        this.close();\n",
       "                        };\n",
       "                    } \n",
       "                }     \n",
       "            }\n",
       "        }\n",
       "    }\n",
       ")\n"
      ],
      "text/plain": [
       "<IPython.core.display.Javascript object>"
      ]
     },
     "metadata": {},
     "output_type": "display_data"
    }
   ],
   "source": [
    "%%notify\n",
    "%%time\n",
    "\n",
    "rf = RandomForestClassifier(bootstrap=True, class_weight=None, criterion='entropy',\n",
    "        max_depth=None, max_features='auto', max_leaf_nodes=None,\n",
    "        min_impurity_decrease=0.0, min_impurity_split=None,\n",
    "        min_samples_leaf=1, min_samples_split=2,\n",
    "        min_weight_fraction_leaf=0.0, n_estimators=500, n_jobs=-1,\n",
    "        oob_score=False, random_state=0, verbose=0, warm_start=False)\n",
    "rf.fit(X_train, y_train)\n",
    "\n",
    "# save_model(rf, 'rf')"
   ]
  },
  {
   "cell_type": "code",
   "execution_count": 45,
   "metadata": {},
   "outputs": [],
   "source": [
    "rf_y_pred = rf.predict(X_test)"
   ]
  },
  {
   "cell_type": "code",
   "execution_count": 46,
   "metadata": {},
   "outputs": [
    {
     "name": "stdout",
     "output_type": "stream",
     "text": [
      "Test Score 0.8582089552238806\n",
      "RMSE 0.376551516762\n"
     ]
    },
    {
     "data": {
      "image/png": "[encoded data removed]",
      "text/plain": [
       "<matplotlib.figure.Figure at 0x1c59dd03d0>"
      ]
     },
     "metadata": {},
     "output_type": "display_data"
    },
    {
     "name": "stdout",
     "output_type": "stream",
     "text": [
      "TP 318\n",
      "TN 372\n",
      "FP 11\n",
      "FN 103\n",
      "top left: TN\n",
      "bottom left: FP\n",
      "top right: FN\n",
      "bottom right: TP\n",
      "------------------------------------------------------------\n",
      "             precision    recall  f1-score   support\n",
      "\n",
      "          0       0.78      0.97      0.87       383\n",
      "          1       0.97      0.76      0.85       421\n",
      "\n",
      "avg / total       0.88      0.86      0.86       804\n",
      "\n"
     ]
    },
    {
     "data": {
      "image/png": "[encoded data removed]",
      "text/plain": [
       "<matplotlib.figure.Figure at 0x1c59da9350>"
      ]
     },
     "metadata": {},
     "output_type": "display_data"
    }
   ],
   "source": [
    "show_score(rf)\n",
    "plot_roc_curve(y_test, rf_y_pred)"
   ]
  },
  {
   "cell_type": "markdown",
   "metadata": {},
   "source": [
    "## Gradient Boosting"
   ]
  },
  {
   "cell_type": "code",
   "execution_count": 47,
   "metadata": {
    "collapsed": true
   },
   "outputs": [
    {
     "name": "stderr",
     "output_type": "stream",
     "text": [
      "/Users/randallleung/anaconda2/envs/ela-env/lib/python2.7/site-packages/sklearn/base.py:311: UserWarning: Trying to unpickle estimator DecisionTreeRegressor from version 0.19.0 when using version 0.19.1. This might lead to breaking code or invalid results. Use at your own risk.\n",
      "  UserWarning)\n",
      "/Users/randallleung/anaconda2/envs/ela-env/lib/python2.7/site-packages/sklearn/base.py:311: UserWarning: Trying to unpickle estimator GradientBoostingClassifier from version 0.19.0 when using version 0.19.1. This might lead to breaking code or invalid results. Use at your own risk.\n",
      "  UserWarning)\n"
     ]
    }
   ],
   "source": [
    "gb = load_sklearn_model('gb')"
   ]
  },
  {
   "cell_type": "code",
   "execution_count": null,
   "metadata": {},
   "outputs": [],
   "source": [
    "%%time\n",
    "\n",
    "kfold = KFold(n_splits=5, random_state=5)\n",
    "results_gb = cross_val_score(gb, X, y, cv=kfold)\n",
    "print(\"Accuracy %.2f%% (%.2f%%)\" % (results_gb.mean() * 100, results_gb.std()*100))"
   ]
  },
  {
   "cell_type": "code",
   "execution_count": null,
   "metadata": {},
   "outputs": [],
   "source": []
  },
  {
   "cell_type": "code",
   "execution_count": null,
   "metadata": {},
   "outputs": [],
   "source": [
    "%%notify\n",
    "%%time\n",
    "\n",
    "gb = GradientBoostingClassifier(criterion='friedman_mse', init=None,\n",
    "                    learning_rate=0.1, loss='deviance', max_depth=3,\n",
    "                  max_features=None, max_leaf_nodes=None,\n",
    "                  min_impurity_decrease=0.0, min_impurity_split=None,\n",
    "                  min_samples_leaf=1, min_samples_split=2,\n",
    "                  min_weight_fraction_leaf=0.0, n_estimators=500,\n",
    "                  presort='auto', random_state=0, subsample=1.0, verbose=0,\n",
    "                  warm_start=False)\n",
    "gb.fit(X_train, y_train)\n",
    "\n",
    "# save_model(gb, 'gb')"
   ]
  },
  {
   "cell_type": "code",
   "execution_count": 60,
   "metadata": {},
   "outputs": [],
   "source": [
    "gb_y_pred = gb.predict(X_test)"
   ]
  },
  {
   "cell_type": "code",
   "execution_count": 88,
   "metadata": {},
   "outputs": [
    {
     "name": "stdout",
     "output_type": "stream",
     "text": [
      "Test Score 0.9079601990049752\n",
      "RMSE 0.303380620665\n"
     ]
    },
    {
     "data": {
      "image/png": "[encoded data removed]",
      "text/plain": [
       "<matplotlib.figure.Figure at 0x1c335e15d0>"
      ]
     },
     "metadata": {},
     "output_type": "display_data"
    },
    {
     "name": "stdout",
     "output_type": "stream",
     "text": [
      "TP 362\n",
      "TN 368\n",
      "FP 15\n",
      "FN 59\n"
     ]
    },
    {
     "data": {
      "image/png": "[encoded data removed]",
      "text/plain": [
       "<matplotlib.figure.Figure at 0x1c330a3c10>"
      ]
     },
     "metadata": {},
     "output_type": "display_data"
    },
    {
     "name": "stdout",
     "output_type": "stream",
     "text": [
      "top left: TN\n",
      "bottom left: FP\n",
      "top right: FN\n",
      "bottom right: TP\n",
      "------------------------------------------------------------\n",
      "             precision    recall  f1-score   support\n",
      "\n",
      "          0       0.86      0.96      0.91       383\n",
      "          1       0.96      0.86      0.91       421\n",
      "\n",
      "avg / total       0.91      0.91      0.91       804\n",
      "\n"
     ]
    }
   ],
   "source": [
    "show_score(gb)\n",
    "plot_roc_curve(y_test, gb_y_pred)"
   ]
  },
  {
   "cell_type": "markdown",
   "metadata": {},
   "source": [
    "## Ada Boosting"
   ]
  },
  {
   "cell_type": "code",
   "execution_count": 48,
   "metadata": {
    "collapsed": true
   },
   "outputs": [
    {
     "name": "stderr",
     "output_type": "stream",
     "text": [
      "/Users/randallleung/anaconda2/envs/ela-env/lib/python2.7/site-packages/sklearn/base.py:311: UserWarning: Trying to unpickle estimator DecisionTreeClassifier from version 0.19.0 when using version 0.19.1. This might lead to breaking code or invalid results. Use at your own risk.\n",
      "  UserWarning)\n",
      "/Users/randallleung/anaconda2/envs/ela-env/lib/python2.7/site-packages/sklearn/base.py:311: UserWarning: Trying to unpickle estimator AdaBoostClassifier from version 0.19.0 when using version 0.19.1. This might lead to breaking code or invalid results. Use at your own risk.\n",
      "  UserWarning)\n"
     ]
    }
   ],
   "source": [
    "ada = load_sklearn_model('ada')"
   ]
  },
  {
   "cell_type": "code",
   "execution_count": null,
   "metadata": {},
   "outputs": [],
   "source": [
    "ada = AdaBoostClassifier(learning_rate=0.1,\n",
    "        n_estimators=50,\n",
    "        random_state=0)\n",
    "\n",
    "grid_adaboost.fit(X_train, y_train)\n",
    "\n",
    "# save_model(ada, 'ada')"
   ]
  },
  {
   "cell_type": "code",
   "execution_count": 69,
   "metadata": {},
   "outputs": [],
   "source": [
    "ada_y_pred = ada.predict(X_test)"
   ]
  },
  {
   "cell_type": "code",
   "execution_count": 89,
   "metadata": {},
   "outputs": [
    {
     "name": "stdout",
     "output_type": "stream",
     "text": [
      "Test Score 0.7276119402985075\n",
      "RMSE 0.521908095072\n"
     ]
    },
    {
     "data": {
      "image/png": "[encoded data removed]",
      "text/plain": [
       "<matplotlib.figure.Figure at 0x1c338c5050>"
      ]
     },
     "metadata": {},
     "output_type": "display_data"
    },
    {
     "name": "stdout",
     "output_type": "stream",
     "text": [
      "TP 263\n",
      "TN 322\n",
      "FP 61\n",
      "FN 158\n"
     ]
    },
    {
     "data": {
      "image/png": "[encoded data removed]",
      "text/plain": [
       "<matplotlib.figure.Figure at 0x1c1ca45f90>"
      ]
     },
     "metadata": {},
     "output_type": "display_data"
    },
    {
     "name": "stdout",
     "output_type": "stream",
     "text": [
      "top left: TN\n",
      "bottom left: FP\n",
      "top right: FN\n",
      "bottom right: TP\n",
      "------------------------------------------------------------\n",
      "             precision    recall  f1-score   support\n",
      "\n",
      "          0       0.67      0.84      0.75       383\n",
      "          1       0.81      0.62      0.71       421\n",
      "\n",
      "avg / total       0.74      0.73      0.73       804\n",
      "\n"
     ]
    }
   ],
   "source": [
    "show_score(ada)\n",
    "plot_roc_curve(y_test, ada_y_pred)"
   ]
  },
  {
   "cell_type": "markdown",
   "metadata": {},
   "source": [
    "# RF with AdaBoost"
   ]
  },
  {
   "cell_type": "code",
   "execution_count": 49,
   "metadata": {
    "collapsed": true
   },
   "outputs": [
    {
     "name": "stderr",
     "output_type": "stream",
     "text": [
      "/Users/randallleung/anaconda2/envs/ela-env/lib/python2.7/site-packages/sklearn/base.py:311: UserWarning: Trying to unpickle estimator RandomForestClassifier from version 0.19.0 when using version 0.19.1. This might lead to breaking code or invalid results. Use at your own risk.\n",
      "  UserWarning)\n",
      "/Users/randallleung/anaconda2/envs/ela-env/lib/python2.7/site-packages/sklearn/base.py:311: UserWarning: Trying to unpickle estimator LabelEncoder from version 0.19.0 when using version 0.19.1. This might lead to breaking code or invalid results. Use at your own risk.\n",
      "  UserWarning)\n",
      "/Users/randallleung/anaconda2/envs/ela-env/lib/python2.7/site-packages/sklearn/base.py:311: UserWarning: Trying to unpickle estimator VotingClassifier from version 0.19.0 when using version 0.19.1. This might lead to breaking code or invalid results. Use at your own risk.\n",
      "  UserWarning)\n"
     ]
    }
   ],
   "source": [
    "ada_rf = load_sklearn_model('ada_rf')"
   ]
  },
  {
   "cell_type": "code",
   "execution_count": null,
   "metadata": {},
   "outputs": [],
   "source": [
    "%%notify\n",
    "%%time\n",
    "tree_pipeline = [\n",
    "    ('rf', rf),\n",
    "    ('gb', gb),\n",
    "]\n",
    "ada_rf = VotingClassifier(tree_pipeline, voting='soft')\n",
    "ada_rf.fit(X_train, y_train)\n",
    "\n",
    "# save_model(ada_rf, 'ada_rf')"
   ]
  },
  {
   "cell_type": "code",
   "execution_count": 128,
   "metadata": {},
   "outputs": [
    {
     "name": "stderr",
     "output_type": "stream",
     "text": [
      "/Users/randallleung/anaconda2/envs/ela-env/lib/python2.7/site-packages/sklearn/preprocessing/label.py:151: DeprecationWarning: The truth value of an empty array is ambiguous. Returning False, but in future this will result in an error. Use `array.size > 0` to check that an array is not empty.\n",
      "  if diff:\n"
     ]
    }
   ],
   "source": [
    "ada_rf_y_pred = ada_rf.predict(X_test)"
   ]
  },
  {
   "cell_type": "code",
   "execution_count": 129,
   "metadata": {},
   "outputs": [
    {
     "name": "stdout",
     "output_type": "stream",
     "text": [
      "Test Score 0.8619402985074627\n",
      "RMSE 0.371563859239\n"
     ]
    },
    {
     "name": "stderr",
     "output_type": "stream",
     "text": [
      "/Users/randallleung/anaconda2/envs/ela-env/lib/python2.7/site-packages/sklearn/preprocessing/label.py:151: DeprecationWarning: The truth value of an empty array is ambiguous. Returning False, but in future this will result in an error. Use `array.size > 0` to check that an array is not empty.\n",
      "  if diff:\n"
     ]
    },
    {
     "data": {
      "image/png": "[encoded data removed]",
      "text/plain": [
       "<matplotlib.figure.Figure at 0x1c33327c10>"
      ]
     },
     "metadata": {},
     "output_type": "display_data"
    },
    {
     "name": "stdout",
     "output_type": "stream",
     "text": [
      "TP 322\n",
      "TN 371\n",
      "FP 12\n",
      "FN 99\n"
     ]
    },
    {
     "data": {
      "image/png": "[encoded data removed]",
      "text/plain": [
       "<matplotlib.figure.Figure at 0x108c19590>"
      ]
     },
     "metadata": {},
     "output_type": "display_data"
    },
    {
     "name": "stdout",
     "output_type": "stream",
     "text": [
      "top left: TN\n",
      "bottom left: FP\n",
      "top right: FN\n",
      "bottom right: TP\n",
      "------------------------------------------------------------\n",
      "             precision    recall  f1-score   support\n",
      "\n",
      "          0       0.79      0.97      0.87       383\n",
      "          1       0.96      0.76      0.85       421\n",
      "\n",
      "avg / total       0.88      0.86      0.86       804\n",
      "\n"
     ]
    }
   ],
   "source": [
    "show_score(ada_rf)\n",
    "plot_roc_curve(y_test, ada_rf_y_pred)"
   ]
  },
  {
   "cell_type": "markdown",
   "metadata": {},
   "source": [
    "## XGBoost"
   ]
  },
  {
   "cell_type": "code",
   "execution_count": 50,
   "metadata": {},
   "outputs": [],
   "source": [
    "xg = load_sklearn_model('xg')"
   ]
  },
  {
   "cell_type": "code",
   "execution_count": null,
   "metadata": {},
   "outputs": [],
   "source": [
    "%%notify\n",
    "%%time\n",
    "\n",
    "xg = XGBClassifier(base_score=0.5, booster='gbtree', colsample_bylevel=1,\n",
    "            colsample_bytree=0.5, gamma=0.4, learning_rate=0.28, max_delta_step=0.06,\n",
    "           max_depth=7, min_child_weight=2, missing=None, n_estimators=470,\n",
    "           n_jobs=1, nthread=None, objective='binary:logistic', random_state=0,\n",
    "           reg_alpha=0.0083, reg_lambda=1, scale_pos_weight=1, seed=None,\n",
    "           silent=True, subsample=0.7)\n",
    "xg.fit(X_train, y_train)\n",
    "\n",
    "# save_model(xg, 'xg')"
   ]
  },
  {
   "cell_type": "code",
   "execution_count": 78,
   "metadata": {
    "collapsed": true
   },
   "outputs": [
    {
     "name": "stderr",
     "output_type": "stream",
     "text": [
      "/Users/randallleung/anaconda2/envs/ela-env/lib/python2.7/site-packages/sklearn/preprocessing/label.py:151: DeprecationWarning: The truth value of an empty array is ambiguous. Returning False, but in future this will result in an error. Use `array.size > 0` to check that an array is not empty.\n",
      "  if diff:\n"
     ]
    }
   ],
   "source": [
    "xg_y_pred = xg.predict(X_test)"
   ]
  },
  {
   "cell_type": "code",
   "execution_count": 91,
   "metadata": {},
   "outputs": [
    {
     "name": "stdout",
     "output_type": "stream",
     "text": [
      "Test Score 0.8955223880597015\n",
      "RMSE 0.323229967578\n"
     ]
    },
    {
     "name": "stderr",
     "output_type": "stream",
     "text": [
      "/Users/randallleung/anaconda2/envs/ela-env/lib/python2.7/site-packages/sklearn/preprocessing/label.py:151: DeprecationWarning: The truth value of an empty array is ambiguous. Returning False, but in future this will result in an error. Use `array.size > 0` to check that an array is not empty.\n",
      "  if diff:\n"
     ]
    },
    {
     "data": {
      "image/png": "[encoded data removed]",
      "text/plain": [
       "<matplotlib.figure.Figure at 0x1c32edcad0>"
      ]
     },
     "metadata": {},
     "output_type": "display_data"
    },
    {
     "name": "stdout",
     "output_type": "stream",
     "text": [
      "TP 349\n",
      "TN 371\n",
      "FP 12\n",
      "FN 72\n"
     ]
    },
    {
     "data": {
      "image/png": "[encoded data removed]",
      "text/plain": [
       "<matplotlib.figure.Figure at 0x1c333f4bd0>"
      ]
     },
     "metadata": {},
     "output_type": "display_data"
    },
    {
     "name": "stdout",
     "output_type": "stream",
     "text": [
      "top left: TN\n",
      "bottom left: FP\n",
      "top right: FN\n",
      "bottom right: TP\n",
      "------------------------------------------------------------\n",
      "             precision    recall  f1-score   support\n",
      "\n",
      "          0       0.84      0.97      0.90       383\n",
      "          1       0.97      0.83      0.89       421\n",
      "\n",
      "avg / total       0.91      0.90      0.90       804\n",
      "\n"
     ]
    }
   ],
   "source": [
    "show_score(xg)\n",
    "plot_roc_curve(y_test, xg_y_pred)"
   ]
  },
  {
   "cell_type": "markdown",
   "metadata": {},
   "source": [
    "## Random forest + Gradient boosting"
   ]
  },
  {
   "cell_type": "code",
   "execution_count": 51,
   "metadata": {},
   "outputs": [],
   "source": [
    "rf_gb = load_sklearn_model('rf_gb')"
   ]
  },
  {
   "cell_type": "code",
   "execution_count": null,
   "metadata": {},
   "outputs": [],
   "source": [
    "%%notify\n",
    "%%time\n",
    "tree_pipeline = [\n",
    "    ('rf', rf),\n",
    "    ('gb', gb),\n",
    "]\n",
    "rf_gb = VotingClassifier(tree_pipeline, voting='soft')\n",
    "rf_gb.fit(X_train, y_train)\n",
    "\n",
    "# save_model(rf_gb, 'rf_gb')"
   ]
  },
  {
   "cell_type": "code",
   "execution_count": 96,
   "metadata": {
    "collapsed": true
   },
   "outputs": [
    {
     "name": "stderr",
     "output_type": "stream",
     "text": [
      "/Users/randallleung/anaconda2/envs/ela-env/lib/python2.7/site-packages/sklearn/preprocessing/label.py:151: DeprecationWarning: The truth value of an empty array is ambiguous. Returning False, but in future this will result in an error. Use `array.size > 0` to check that an array is not empty.\n",
      "  if diff:\n"
     ]
    }
   ],
   "source": [
    "rf_gb_y_pred = rf_gb.predict(X_test)"
   ]
  },
  {
   "cell_type": "code",
   "execution_count": 97,
   "metadata": {},
   "outputs": [
    {
     "name": "stdout",
     "output_type": "stream",
     "text": [
      "Test Score 0.904228855721393\n",
      "RMSE 0.309469132998\n"
     ]
    },
    {
     "name": "stderr",
     "output_type": "stream",
     "text": [
      "/Users/randallleung/anaconda2/envs/ela-env/lib/python2.7/site-packages/sklearn/preprocessing/label.py:151: DeprecationWarning: The truth value of an empty array is ambiguous. Returning False, but in future this will result in an error. Use `array.size > 0` to check that an array is not empty.\n",
      "  if diff:\n"
     ]
    },
    {
     "data": {
      "image/png": "[encoded data removed]",
      "text/plain": [
       "<matplotlib.figure.Figure at 0x1c1cb03f90>"
      ]
     },
     "metadata": {},
     "output_type": "display_data"
    },
    {
     "name": "stdout",
     "output_type": "stream",
     "text": [
      "TP 357\n",
      "TN 370\n",
      "FP 13\n",
      "FN 64\n"
     ]
    },
    {
     "data": {
      "image/png": "[encoded data removed]",
      "text/plain": [
       "<matplotlib.figure.Figure at 0x1c33dd1b90>"
      ]
     },
     "metadata": {},
     "output_type": "display_data"
    },
    {
     "name": "stdout",
     "output_type": "stream",
     "text": [
      "top left: TN\n",
      "bottom left: FP\n",
      "top right: FN\n",
      "bottom right: TP\n",
      "------------------------------------------------------------\n",
      "             precision    recall  f1-score   support\n",
      "\n",
      "          0       0.85      0.97      0.91       383\n",
      "          1       0.96      0.85      0.90       421\n",
      "\n",
      "avg / total       0.91      0.90      0.90       804\n",
      "\n"
     ]
    }
   ],
   "source": [
    "show_score(rf_gb)\n",
    "plot_roc_curve(y_test, rf_gb_y_pred)"
   ]
  },
  {
   "cell_type": "markdown",
   "metadata": {},
   "source": [
    "## Convolutional Neural Network"
   ]
  },
  {
   "cell_type": "code",
   "execution_count": 52,
   "metadata": {},
   "outputs": [],
   "source": [
    "cnn = load_model('models/cnn/cnn_model.h5')"
   ]
  },
  {
   "cell_type": "code",
   "execution_count": 56,
   "metadata": {},
   "outputs": [],
   "source": [
    "X_train_keras, X_test_keras, y_train_keras, y_test_keras = preprocess_keras(X, y)"
   ]
  },
  {
   "cell_type": "code",
   "execution_count": null,
   "metadata": {},
   "outputs": [],
   "source": [
    "cnn = Sequential()\n",
    "cnn.add(Conv2D(32, (3, 3), input_shape=(1, 124, 124), data_format='channels_first'))\n",
    "cnn.add(Activation('relu'))\n",
    "cnn.add(MaxPooling2D(pool_size=(2, 2)))\n",
    "cnn.add(Dropout(0.35))\n",
    "\n",
    "cnn.add(Conv2D(32, (3, 3)))\n",
    "cnn.add(Activation('relu'))\n",
    "cnn.add(MaxPooling2D(pool_size=(2, 2)))\n",
    "cnn.add(Dropout(0.35))\n",
    "\n",
    "# 2 Fully connected layers\n",
    "cnn.add(Flatten())  # this converts our 3D feature maps to 1D feature vectors\n",
    "cnn.add(Dense(64)) ##....\n",
    "cnn.add(Activation('relu'))\n",
    "cnn.add(Dropout(0.5))\n",
    "cnn.add(Dense(1))\n",
    "cnn.add(Activation('sigmoid'))\n",
    "\n",
    "cnn.compile(loss='binary_crossentropy',\n",
    "              optimizer='adam',\n",
    "              metrics=['accuracy'])"
   ]
  },
  {
   "cell_type": "code",
   "execution_count": 17,
   "metadata": {
    "scrolled": true
   },
   "outputs": [
    {
     "name": "stdout",
     "output_type": "stream",
     "text": [
      "Epoch 1/20\n",
      "101/101 [==============================] - 139s 1s/step - loss: 0.6646 - acc: 0.6008 - val_loss: 0.6066 - val_acc: 0.6671\n",
      "Epoch 2/20\n",
      "101/101 [==============================] - 133s 1s/step - loss: 0.5798 - acc: 0.6994 - val_loss: 0.5456 - val_acc: 0.7195\n",
      "Epoch 3/20\n",
      "101/101 [==============================] - 133s 1s/step - loss: 0.5541 - acc: 0.7249 - val_loss: 0.5354 - val_acc: 0.7294\n",
      "Epoch 4/20\n",
      "101/101 [==============================] - 132s 1s/step - loss: 0.5146 - acc: 0.7432 - val_loss: 0.4869 - val_acc: 0.7668\n",
      "Epoch 5/20\n",
      "101/101 [==============================] - 140s 1s/step - loss: 0.4842 - acc: 0.7650 - val_loss: 0.4405 - val_acc: 0.7781\n",
      "Epoch 6/20\n",
      "101/101 [==============================] - 138s 1s/step - loss: 0.4139 - acc: 0.8124 - val_loss: 0.3645 - val_acc: 0.8379\n",
      "Epoch 7/20\n",
      "101/101 [==============================] - 141s 1s/step - loss: 0.3571 - acc: 0.8380 - val_loss: 0.3226 - val_acc: 0.8716\n",
      "Epoch 8/20\n",
      "101/101 [==============================] - 119s 1s/step - loss: 0.3402 - acc: 0.8520 - val_loss: 0.3453 - val_acc: 0.8180\n",
      "Epoch 9/20\n",
      "101/101 [==============================] - 137s 1s/step - loss: 0.3016 - acc: 0.8762 - val_loss: 0.2652 - val_acc: 0.8978\n",
      "Epoch 10/20\n",
      "101/101 [==============================] - 126s 1s/step - loss: 0.2797 - acc: 0.8874 - val_loss: 0.2514 - val_acc: 0.9077\n",
      "Epoch 11/20\n",
      "101/101 [==============================] - 126s 1s/step - loss: 0.2652 - acc: 0.8911 - val_loss: 0.2232 - val_acc: 0.9152\n",
      "Epoch 12/20\n",
      "101/101 [==============================] - 113s 1s/step - loss: 0.2418 - acc: 0.8997 - val_loss: 0.2132 - val_acc: 0.9190\n",
      "Epoch 13/20\n",
      "101/101 [==============================] - 117s 1s/step - loss: 0.2413 - acc: 0.9027 - val_loss: 0.2452 - val_acc: 0.9027\n",
      "Epoch 14/20\n",
      "101/101 [==============================] - 114s 1s/step - loss: 0.2292 - acc: 0.9075 - val_loss: 0.1979 - val_acc: 0.9314\n",
      "Epoch 15/20\n",
      "101/101 [==============================] - 111s 1s/step - loss: 0.2128 - acc: 0.9183 - val_loss: 0.2595 - val_acc: 0.8878\n",
      "Epoch 16/20\n",
      "101/101 [==============================] - 112s 1s/step - loss: 0.2190 - acc: 0.9131 - val_loss: 0.1934 - val_acc: 0.9339\n",
      "Epoch 17/20\n",
      "101/101 [==============================] - 112s 1s/step - loss: 0.2032 - acc: 0.9195 - val_loss: 0.1910 - val_acc: 0.9339\n",
      "Epoch 18/20\n",
      "101/101 [==============================] - 110s 1s/step - loss: 0.1920 - acc: 0.9301 - val_loss: 0.1866 - val_acc: 0.9414\n",
      "Epoch 19/20\n",
      "101/101 [==============================] - 115s 1s/step - loss: 0.1850 - acc: 0.9322 - val_loss: 0.1731 - val_acc: 0.9364\n",
      "Epoch 20/20\n",
      "101/101 [==============================] - 120s 1s/step - loss: 0.1841 - acc: 0.9285 - val_loss: 0.1883 - val_acc: 0.9377\n",
      "CPU times: user 2h 13min 54s, sys: 3min 27s, total: 2h 17min 22s\n",
      "Wall time: 41min 27s\n"
     ]
    },
    {
     "data": {
      "application/javascript": [
       "$(document).ready(\n",
       "    function() {\n",
       "        function appendUniqueDiv(){\n",
       "            // append a div with our uuid so we can check that it's already\n",
       "            // been sent and avoid duplicates on page reload\n",
       "            var notifiedDiv = document.createElement(\"div\")\n",
       "            notifiedDiv.id = \"1d28f26f-336c-4d32-9b54-19475cc215fc\"\n",
       "            element.append(notifiedDiv)\n",
       "        }\n",
       "\n",
       "        // only send notifications if the pageload is complete; this will\n",
       "        // help stop extra notifications when a saved notebook is loaded,\n",
       "        // which during testing gives us state \"interactive\", not \"complete\"\n",
       "        if (document.readyState === 'complete') {\n",
       "            // check for the div that signifies that the notification\n",
       "            // was already sent\n",
       "            if (document.getElementById(\"1d28f26f-336c-4d32-9b54-19475cc215fc\") === null) {\n",
       "                var notificationPayload = {\"body\": \"Cell execution has finished!\", \"requireInteraction\": false, \"icon\": \"/static/base/images/favicon.ico\"};\n",
       "                if (Notification.permission !== 'denied') {\n",
       "                    if (Notification.permission !== 'granted') { \n",
       "                        Notification.requestPermission(function (permission) {\n",
       "                            if(!('permission' in Notification)) {\n",
       "                                Notification.permission = permission\n",
       "                            }\n",
       "                        })\n",
       "                    }\n",
       "                    if (Notification.permission === 'granted') {\n",
       "                    var notification = new Notification(\"Jupyter Notebook\", notificationPayload)\n",
       "                    appendUniqueDiv()\n",
       "                    notification.onclick = function () {\n",
       "                        window.focus();\n",
       "                        this.close();\n",
       "                        };\n",
       "                    } \n",
       "                }     \n",
       "            }\n",
       "        }\n",
       "    }\n",
       ")\n"
      ],
      "text/plain": [
       "<IPython.core.display.Javascript object>"
      ]
     },
     "metadata": {},
     "output_type": "display_data"
    }
   ],
   "source": [
    "%%notify\n",
    "%%time\n",
    "\n",
    "early_stopping = EarlyStopping(monitor='val_loss', patience=2)\n",
    "\n",
    "datagen = ImageDataGenerator(\n",
    "    rotation_range=10,\n",
    "    horizontal_flip=True,\n",
    "    vertical_flip=True)\n",
    "\n",
    "history = cnn.fit_generator(\n",
    "    datagen.flow(X_train_keras, y_train_keras, batch_size=32),\n",
    "    epochs=20,\n",
    "    verbose=1,\n",
    "    validation_data=(X_test, y_test) \n",
    "    # callbacks=[early_stopping]\n",
    "    )"
   ]
  },
  {
   "cell_type": "code",
   "execution_count": 122,
   "metadata": {
    "scrolled": false
   },
   "outputs": [
    {
     "name": "stdout",
     "output_type": "stream",
     "text": [
      "804/804 [==============================] - 16s 20ms/step\n"
     ]
    }
   ],
   "source": [
    "cnn_score = cnn.evaluate(X_test_keras, y_test_keras, verbose=1)"
   ]
  },
  {
   "cell_type": "code",
   "execution_count": 123,
   "metadata": {},
   "outputs": [
    {
     "name": "stdout",
     "output_type": "stream",
     "text": [
      "Test loss: 0.17435584576865334\n",
      "Test accuracy: 0.9365671641791045\n"
     ]
    }
   ],
   "source": [
    "print 'Test loss:', cnn_score[0]\n",
    "print 'Test accuracy:', cnn_score[1]"
   ]
  },
  {
   "cell_type": "code",
   "execution_count": 124,
   "metadata": {},
   "outputs": [
    {
     "name": "stdout",
     "output_type": "stream",
     "text": [
      "804/804 [==============================] - 15s 19ms/step\n"
     ]
    }
   ],
   "source": [
    "cnn_model_y_pred = cnn.predict_classes(X_test_keras, verbose=1)"
   ]
  },
  {
   "cell_type": "code",
   "execution_count": 125,
   "metadata": {},
   "outputs": [
    {
     "name": "stdout",
     "output_type": "stream",
     "text": [
      "RMSE 0.251858761652\n"
     ]
    },
    {
     "data": {
      "image/png": "[encoded data removed]",
      "text/plain": [
       "<matplotlib.figure.Figure at 0x104fb2b10>"
      ]
     },
     "metadata": {},
     "output_type": "display_data"
    },
    {
     "name": "stdout",
     "output_type": "stream",
     "text": [
      "TP 377\n",
      "TN 376\n",
      "FP 7\n",
      "FN 44\n"
     ]
    },
    {
     "data": {
      "image/png": "[encoded data removed]",
      "text/plain": [
       "<matplotlib.figure.Figure at 0x1c22ceb890>"
      ]
     },
     "metadata": {},
     "output_type": "display_data"
    },
    {
     "name": "stdout",
     "output_type": "stream",
     "text": [
      "top left: TN\n",
      "bottom left: FP\n",
      "top right: FN\n",
      "bottom right: TP\n",
      "------------------------------------------------------------\n",
      "             precision    recall  f1-score   support\n",
      "\n",
      "          0       0.90      0.98      0.94       383\n",
      "          1       0.98      0.90      0.94       421\n",
      "\n",
      "avg / total       0.94      0.94      0.94       804\n",
      "\n"
     ]
    }
   ],
   "source": [
    "plot_roc_curve(y_test_keras, cnn_model_y_pred)"
   ]
  },
  {
   "cell_type": "code",
   "execution_count": 23,
   "metadata": {},
   "outputs": [
    {
     "data": {
      "image/png": "[encoded data removed]",
      "text/plain": [
       "<matplotlib.figure.Figure at 0x1a3a38d810>"
      ]
     },
     "metadata": {},
     "output_type": "display_data"
    },
    {
     "data": {
      "image/png": "[encoded data removed]",
      "text/plain": [
       "<matplotlib.figure.Figure at 0x1a3a615790>"
      ]
     },
     "metadata": {},
     "output_type": "display_data"
    }
   ],
   "source": [
    "plot_history(history, 'cnn loss', 'cnn accuracy')"
   ]
  },
  {
   "cell_type": "code",
   "execution_count": null,
   "metadata": {},
   "outputs": [],
   "source": [
    "# cnn.save('models/cnn_model.h5') # save the actual model\n",
    "\n",
    "# cnn_model_json = cnn.to_json() # To Json\n",
    "# with open(\"models/cnn_model.json\", \"w\") as json_file:\n",
    "#     json_file.write(cnn_model_json)\n",
    "    \n",
    "# cnn.save_weights('models/cnn_model_weights.h5') # Saving weights"
   ]
  },
  {
   "cell_type": "markdown",
   "metadata": {},
   "source": [
    "# ROC Curves"
   ]
  },
  {
   "cell_type": "code",
   "execution_count": null,
   "metadata": {},
   "outputs": [
    {
     "name": "stderr",
     "output_type": "stream",
     "text": [
      "/Users/randallleung/anaconda2/envs/ela-env/lib/python2.7/site-packages/sklearn/preprocessing/label.py:151: DeprecationWarning: The truth value of an empty array is ambiguous. Returning False, but in future this will result in an error. Use `array.size > 0` to check that an array is not empty.\n",
      "  if diff:\n"
     ]
    }
   ],
   "source": [
    "models = {\n",
    "    \"Logisitic Regression\": lr,\n",
    "    \"Random Forest\": rf, \n",
    "    \"Gradient Boost\": gb,\n",
    "    \"AdaBoost\": ada,\n",
    "    \"RF-Ada\":ada_rf,\n",
    "    \"RF-GB\": rf_gb,\n",
    "    \"xgBoost\": xg,\n",
    "    \"CNN\": cnn\n",
    "}\n",
    "\n",
    "plot_roc_multi(X_test, y_test, X_test_keras, y_test_keras, models, save=True)"
   ]
  },
  {
   "cell_type": "code",
   "execution_count": null,
   "metadata": {},
   "outputs": [],
   "source": []
  }
 ],
 "metadata": {
  "kernelspec": {
   "display_name": "Python 2",
   "language": "python",
   "name": "python2"
  },
  "language_info": {
   "codemirror_mode": {
    "name": "ipython",
    "version": 2
   },
   "file_extension": ".py",
   "mimetype": "text/x-python",
   "name": "python",
   "nbconvert_exporter": "python",
   "pygments_lexer": "ipython2",
   "version": "2.7.14"
  }
 },
 "nbformat": 4,
 "nbformat_minor": 2
}
